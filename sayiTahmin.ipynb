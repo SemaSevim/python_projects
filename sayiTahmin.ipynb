{
 "cells": [
  {
   "cell_type": "code",
   "execution_count": 1,
   "metadata": {},
   "outputs": [
    {
     "name": "stdout",
     "output_type": "stream",
     "text": [
      "8\n",
      "Daha düşük sayı girmen lazım\n",
      "Daha düşük sayı girmen lazım\n",
      "Daha düşük sayı girmen lazım\n",
      "Daha büyük sayı girmen lazım\n",
      "random sayı <function get_random_sayi at 0x0000024B6DF1AA70>!\n",
      "Tahmin ettiğiniz 5\n",
      "Daha düşük sayı girmen lazım\n"
     ]
    }
   ],
   "source": [
    "from random import randint\n",
    " \n",
    "def get_random_sayi():\n",
    "    return randint(1,10)\n",
    "print(get_random_sayi())\n",
    "guess=0\n",
    " \n",
    "while True:\n",
    "    guess+=1\n",
    "    sayi=int(input(\"1 ile 100 arasında değer girin ):\"))\n",
    "    if(sayi==0):\n",
    "        print(\"Oyun Bitti\")\n",
    "        break\n",
    "    elif sayi < guess:\n",
    "        print(\"Daha büyük bir sayı girin\")\n",
    "        continue\n",
    "    elif sayi > guess:\n",
    "        print(\"Daha düşük bir sayı girin\")\n",
    "        continue\n",
    "    else:\n",
    "        print(\"random sayı {0}!\".format(get_random_sayi))\n",
    "        print(\"Tahmin ettiğiniz {0}\".format(guess))"
   ]
  }
 ],
 "metadata": {
  "interpreter": {
   "hash": "28656f3078ae86e88d8ce27b25529dc8ebc049d5d9bf0333aef7c10e65c1cf01"
  },
  "kernelspec": {
   "display_name": "Python 3.10.4 64-bit",
   "language": "python",
   "name": "python3"
  },
  "language_info": {
   "codemirror_mode": {
    "name": "ipython",
    "version": 3
   },
   "file_extension": ".py",
   "mimetype": "text/x-python",
   "name": "python",
   "nbconvert_exporter": "python",
   "pygments_lexer": "ipython3",
   "version": "3.10.4"
  },
  "orig_nbformat": 4
 },
 "nbformat": 4,
 "nbformat_minor": 2
}
